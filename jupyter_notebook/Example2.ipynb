{
 "cells": [
  {
   "cell_type": "code",
   "execution_count": 62,
   "metadata": {},
   "outputs": [],
   "source": [
    "import numpy as np # trabalha com dados multidimenisonais e funções matemáticas\n",
    "import pandas as pd # manipulação de analise de dados em massa\n",
    "\n",
    "import warnings\n",
    "import math\n",
    "import requests\n",
    "warnings.filterwarnings('ignore')"
   ]
  },
  {
   "cell_type": "code",
   "execution_count": 63,
   "metadata": {},
   "outputs": [
    {
     "name": "stdout",
     "output_type": "stream",
     "text": [
      "[DF] 0       CSTB3\n",
      "1       MNSA3\n",
      "2       CSTB4\n",
      "3       POPR4\n",
      "4       PMET3\n",
      "        ...  \n",
      "982    UBBR11\n",
      "983     GUAR4\n",
      "984     UBBR3\n",
      "985     MLFT4\n",
      "986    BBTG12\n",
      "Name: Papel, Length: 987, dtype: object\n"
     ]
    }
   ],
   "source": [
    "url = \"https://www.fundamentus.com.br/resultado.php\"\n",
    "\n",
    "header = {\n",
    "    \"User-Agent\": \"Mozilla/5.0\"\n",
    "}\n",
    "\n",
    "r = requests.get(url, headers=header)\n",
    "\n",
    "df = pd.read_html(r.text, decimal=',', thousands='.')[0]\n",
    "\n",
    "print(\"[DF]\", df['Papel'])"
   ]
  },
  {
   "cell_type": "code",
   "execution_count": 64,
   "metadata": {},
   "outputs": [],
   "source": [
    "for coluna in ['Div.Yield', 'Mrg Ebit', 'Mrg. Líq.', 'ROIC', 'ROE', 'Cresc. Rec.5a']:\n",
    "    df[coluna] = df[coluna].str.replace('.', '')\n",
    "    df[coluna] = df[coluna].str.replace(',', '.')\n",
    "    df[coluna] = df[coluna].str.rstrip('%').astype('float') / 100\n",
    "    \n",
    "df = df[( df['Liq.2meses'] > 1000000) & (df['P/L'] > 0)]"
   ]
  },
  {
   "cell_type": "code",
   "execution_count": 65,
   "metadata": {},
   "outputs": [],
   "source": [
    "ranking = pd.DataFrame()\n",
    "\n",
    "ranking['pos'] = range(1,101)\n",
    "\n",
    "ranking['EV/EBIT'] = df[ df['EV/EBIT'] > 0 ].sort_values(by=['EV/EBIT'])['Papel'][:100].values\n",
    "\n",
    "ranking['P/L'] = df.sort_values(by=['P/L'])['Papel'][:100].values\n",
    "\n",
    "ranking['ROIC'] = df.sort_values(by=['ROIC'], ascending=False)['Papel'][:100].values\n",
    "\n",
    "ranking['ROE'] = df.sort_values(by=['ROE'], ascending=False)['Papel'][:100].values"
   ]
  },
  {
   "cell_type": "code",
   "execution_count": 66,
   "metadata": {},
   "outputs": [],
   "source": [
    "a = ranking.pivot_table(columns='EV/EBIT')\n",
    "b = ranking.pivot_table(columns='ROIC')\n",
    "c = ranking.pivot_table(columns='P/L')\n",
    "d = ranking.pivot_table(columns='ROE')\n",
    "\n",
    "t = pd.concat([a,b,c,d])"
   ]
  },
  {
   "cell_type": "code",
   "execution_count": 67,
   "metadata": {},
   "outputs": [],
   "source": [
    "rank = t.dropna(axis=1).sum()\n",
    "\n",
    "rank = rank.sort_values()[:10]"
   ]
  },
  {
   "cell_type": "code",
   "execution_count": 68,
   "metadata": {},
   "outputs": [
    {
     "name": "stdout",
     "output_type": "stream",
     "text": [
      "Lista de ativos recomendados segundo a Magic Formula e filtrados pelo preço justo de Graham: \n",
      "['PETR4', 'PETR3', 'KEPL3', 'UNIP3', 'TASA4', 'UNIP6', 'VALE3', 'FESA4', 'GOAU3', 'GOAU4']\n"
     ]
    }
   ],
   "source": [
    "# filtro de graham\n",
    "\n",
    "df2 = df.set_index('Papel')\n",
    "\n",
    "indica = []\n",
    "for i in range(10):\n",
    "    pl = df2.loc[rank.index[i], 'P/L']\n",
    "    pvp = df2.loc[rank.index[i], 'P/VP']\n",
    "    cot = df2.loc[rank.index[i], 'Cotação']\n",
    "    lpa = cot / pl\n",
    "    vpa = cot / pvp\n",
    "    \n",
    "    graham = math.sqrt(22.5 * lpa * vpa)\n",
    "    \n",
    "    if graham > (cot):\n",
    "        indica.append(rank.index[i])\n",
    "        \n",
    "print('Lista de ativos recomendados segundo a Magic Formula e filtrados pelo preço justo de Graham: ')\n",
    "print(indica)"
   ]
  }
 ],
 "metadata": {
  "kernelspec": {
   "display_name": "Python 3",
   "language": "python",
   "name": "python3"
  },
  "language_info": {
   "codemirror_mode": {
    "name": "ipython",
    "version": 3
   },
   "file_extension": ".py",
   "mimetype": "text/x-python",
   "name": "python",
   "nbconvert_exporter": "python",
   "pygments_lexer": "ipython3",
   "version": "3.7.9"
  },
  "orig_nbformat": 4
 },
 "nbformat": 4,
 "nbformat_minor": 2
}
